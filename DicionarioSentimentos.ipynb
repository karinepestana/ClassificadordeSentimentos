{
 "cells": [
  {
   "cell_type": "code",
   "execution_count": 1,
   "metadata": {},
   "outputs": [],
   "source": [
    "from bs4 import BeautifulSoup\n",
    "import re\n",
    "import requests\n",
    "\n",
    "import pandas as pd \n",
    "\n",
    "import spacy\n",
    "import spacy.cli"
   ]
  },
  {
   "cell_type": "code",
   "execution_count": 2,
   "metadata": {},
   "outputs": [],
   "source": [
    "from time import sleep\n",
    "from random import randint"
   ]
  },
  {
   "cell_type": "code",
   "execution_count": 3,
   "metadata": {},
   "outputs": [],
   "source": [
    "def cria_dicionario():\n",
    "    global lista_sent\n",
    "    #print(lista_sent[0])\n",
    "    s, o, h = lista_sent.pop(0)\n",
    "    #print(s)\n",
    "    #verifica se a palavra está no dicionario\n",
    "    if s in dic_sentimentos:\n",
    "        return\n",
    "    \n",
    "    if h > d:\n",
    "        dic_sentimentos[s] =  o\n",
    "        return\n",
    "    \n",
    "    #caso as verificações estejam ok, adiciona no dicionário e faz a busca \n",
    "    \n",
    "    dic_sentimentos[s] =  o\n",
    "    \n",
    "    url = \"https://www.sinonimos.com.br/\" + s\n",
    "    soup = BeautifulSoup(requests.get(url).text, \"html5lib\")\n",
    "    retorno = soup.find_all('a', class_ ='sinonimo')\n",
    "    lista_sent = lista_sent + list(pd.Series(retorno).apply(lambda x: (str(x).split('>')[1][:-3], o, h+1)))\n",
    "    \n",
    "    #sleep(randint(1,3))\n",
    "    \n",
    "    cria_dicionario() "
   ]
  },
  {
   "cell_type": "code",
   "execution_count": 4,
   "metadata": {},
   "outputs": [
    {
     "name": "stderr",
     "output_type": "stream",
     "text": [
      "/home/karine/anaconda3/lib/python3.7/site-packages/ipykernel_launcher.py:21: DeprecationWarning: The default dtype for empty Series will be 'object' instead of 'float64' in a future version. Specify a dtype explicitly to silence this warning.\n"
     ]
    }
   ],
   "source": [
    "dic_sentimentos = {}\n",
    "lista_sent = [('alegria','alegria', 0), ('tristeza','tristeza', 0), ('raiva','raiva', 0), ('nojo','nojo', 0), ('medo','medo', 0)]\n",
    "#lista_sent = [('raiva','raiva', 0), ('nojo','nojo', 0), ('medo','medo', 0)]\n",
    "d = 1\n",
    "\n",
    "while lista_sent != []:\n",
    "    cria_dicionario()"
   ]
  },
  {
   "cell_type": "code",
   "execution_count": 5,
   "metadata": {},
   "outputs": [],
   "source": [
    "(pd.DataFrame.from_dict(dic_sentimentos, orient='index')).to_csv('dic_sentimento_3_niveis.txt', sep='\\t' )"
   ]
  },
  {
   "cell_type": "code",
   "execution_count": 6,
   "metadata": {},
   "outputs": [
    {
     "data": {
      "text/plain": [
       "alegria     328\n",
       "tristeza    318\n",
       "raiva       244\n",
       "nojo        151\n",
       "medo        111\n",
       "Name: sent, dtype: int64"
      ]
     },
     "execution_count": 6,
     "metadata": {},
     "output_type": "execute_result"
    }
   ],
   "source": [
    "pd.DataFrame.from_dict(dic_sentimentos, orient='index', columns = ['sent'])['sent'].value_counts()"
   ]
  }
 ],
 "metadata": {
  "kernelspec": {
   "display_name": "Python 3",
   "language": "python",
   "name": "python3"
  },
  "language_info": {
   "codemirror_mode": {
    "name": "ipython",
    "version": 3
   },
   "file_extension": ".py",
   "mimetype": "text/x-python",
   "name": "python",
   "nbconvert_exporter": "python",
   "pygments_lexer": "ipython3",
   "version": "3.7.6"
  }
 },
 "nbformat": 4,
 "nbformat_minor": 4
}
