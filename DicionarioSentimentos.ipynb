{
 "cells": [
  {
   "cell_type": "code",
   "execution_count": 1,
   "metadata": {},
   "outputs": [],
   "source": [
    "from bs4 import BeautifulSoup\n",
    "import re\n",
    "import requests\n",
    "\n",
    "import pandas as pd \n",
    "\n",
    "import spacy\n",
    "import spacy.cli"
   ]
  },
  {
   "cell_type": "code",
   "execution_count": 2,
   "metadata": {},
   "outputs": [],
   "source": [
    "from time import sleep\n",
    "from random import randint"
   ]
  },
  {
   "cell_type": "code",
   "execution_count": 11,
   "metadata": {},
   "outputs": [],
   "source": [
    "dic_sentimentos = {}\n",
    "lista_sent = ['alegria', 'tristeza', 'raiva', 'nojo', 'medo']\n",
    "d = 3\n",
    "\n",
    "def cria_dicionario(sentimento, sent_origem, dist):\n",
    "    \n",
    "    if dist > d:\n",
    "        return\n",
    "    \n",
    "    if sentimento in dic_sentimentos:\n",
    "        return\n",
    "    \n",
    "    dic_sentimentos[sentimento] = sent_origem\n",
    "    \n",
    "    url = \"https://www.sinonimos.com.br/\" + sentimento\n",
    "    soup = BeautifulSoup(requests.get(url).text, \"html5lib\")\n",
    "    \n",
    "    lista_sinonimos = soup.find_all('a', class_ ='sinonimo')\n",
    "\n",
    "    for item in lista_sinonimos:                \n",
    "        cria_dicionario(str(item).split('>')[1][:-3], sent_origem, dist+1)\n",
    "        \n",
    "    \"\"\"\n",
    "    if sentimento in lista_sent:\n",
    "        for item in lista_sinonimos:\n",
    "            dic_sentimentos[(str(item).split('>')[1][:-3])] = sentimento\n",
    "            cria_dicionario(str(item).split('>')[1][:-3], sentimento)\n",
    "    else:\n",
    "        for item in lista_sinonimos:                \n",
    "            dic_sentimentos[(str(item).split('>')[1][:-3])] = sent_origem\n",
    "    \"\"\"\n",
    "        \n",
    "    #sleep(randint(1,3))"
   ]
  },
  {
   "cell_type": "code",
   "execution_count": 4,
   "metadata": {},
   "outputs": [],
   "source": [
    "for sentimento in lista_sent:    \n",
    "    cria_dicionario(sentimento, sentimento, 0)"
   ]
  },
  {
   "cell_type": "code",
   "execution_count": 12,
   "metadata": {},
   "outputs": [],
   "source": [
    "cria_dicionario('nojo', 'nojo', 0)"
   ]
  },
  {
   "cell_type": "code",
   "execution_count": 6,
   "metadata": {},
   "outputs": [],
   "source": [
    "(pd.DataFrame.from_dict(dic_sentimentos, orient='index')).to_csv('dic_sentimento.txt', sep='\\t' )"
   ]
  },
  {
   "cell_type": "code",
   "execution_count": 10,
   "metadata": {},
   "outputs": [
    {
     "data": {
      "text/plain": [
       "alegria     583\n",
       "raiva       524\n",
       "tristeza    466\n",
       "Name: sent, dtype: int64"
      ]
     },
     "execution_count": 10,
     "metadata": {},
     "output_type": "execute_result"
    }
   ],
   "source": [
    "pd.DataFrame.from_dict(dic_sentimentos, orient='index', columns = ['sent'])['sent'].value_counts()"
   ]
  }
 ],
 "metadata": {
  "kernelspec": {
   "display_name": "Python 3",
   "language": "python",
   "name": "python3"
  },
  "language_info": {
   "codemirror_mode": {
    "name": "ipython",
    "version": 3
   },
   "file_extension": ".py",
   "mimetype": "text/x-python",
   "name": "python",
   "nbconvert_exporter": "python",
   "pygments_lexer": "ipython3",
   "version": "3.7.6"
  }
 },
 "nbformat": 4,
 "nbformat_minor": 4
}
