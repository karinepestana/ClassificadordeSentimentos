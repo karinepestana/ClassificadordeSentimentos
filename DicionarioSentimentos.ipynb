{
 "cells": [
  {
   "cell_type": "code",
   "execution_count": 1,
   "metadata": {},
   "outputs": [],
   "source": [
    "from bs4 import BeautifulSoup\n",
    "import re\n",
    "import requests\n",
    "#from urllib.request import urlopen as uReq, Request\n",
    "\n",
    "import pandas as pd\n",
    "import numpy as np\n",
    "\n",
    "import spacy\n",
    "import spacy.cli"
   ]
  },
  {
   "cell_type": "code",
   "execution_count": 2,
   "metadata": {},
   "outputs": [],
   "source": [
    "from time import sleep\n",
    "from random import randint"
   ]
  },
  {
   "cell_type": "code",
   "execution_count": 3,
   "metadata": {},
   "outputs": [],
   "source": [
    "dic_sentimentos = {}\n",
    "d = 4\n",
    "\n",
    "sentimentos_originais = ['alegria','medo','nojo','raiva','tristeza']\n",
    "lista_sent = [('alegria','alegria', 0), ('medo','medo', 0), ('nojo','nojo', 0), ('raiva','raiva', 0), ('tristeza','tristeza', 0)]\n",
    "tam_lista_sent = 5"
   ]
  },
  {
   "cell_type": "code",
   "execution_count": 4,
   "metadata": {},
   "outputs": [],
   "source": [
    "def busca_inicial():\n",
    "    global lista_sent\n",
    "    global tam_lista_sent\n",
    "    \n",
    "    for i in range(0, tam_lista_sent):\n",
    "        s, o, h = lista_sent.pop(0)\n",
    "        dic_sentimentos[s] = o\n",
    "        url = \"https://www.sinonimos.com.br/\" + s\n",
    "        soup = BeautifulSoup(requests.get(url).text, \"html5lib\")\n",
    "        retorno = soup.find_all('a', class_ ='sinonimo')\n",
    "        lista_sent = lista_sent + list(pd.Series(retorno).apply(lambda x: (str(x).split('>')[1][:-3], o, h+1)))\n",
    "        \n",
    "        sleep(randint(1,3))\n",
    "    "
   ]
  },
  {
   "cell_type": "code",
   "execution_count": 5,
   "metadata": {},
   "outputs": [],
   "source": [
    "def verifica_balanco():    \n",
    "    qt_dicionario = pd.DataFrame(pd.DataFrame.from_dict(dic_sentimentos, orient='index', columns = ['sent'])['sent'].value_counts()).sort_index()['sent'].tolist()\n",
    "    qt_dicionario = np.array(qt_dicionario)\n",
    "    \n",
    "    menor_valor = qt_dicionario.min()\n",
    "    \n",
    "    if (qt_dicionario-menor_valor).min() > 1:\n",
    "        return 0\n",
    "    else:\n",
    "        return 1    "
   ]
  },
  {
   "cell_type": "code",
   "execution_count": 6,
   "metadata": {},
   "outputs": [],
   "source": [
    "def busca_indice_elemento(sentimento):\n",
    "    global lista_sent\n",
    "    global tam_lista_sent\n",
    "    \n",
    "    sent_origem = 'nulo'    \n",
    "    i = 0\n",
    "    \n",
    "    while i < len(lista_sent) and sent_origem != sentimento:\n",
    "        s, sent_origem, h = lista_sent[i]\n",
    "        i += 1\n",
    "        \n",
    "    if i == len(lista_sent):\n",
    "        return -1\n",
    "    else:\n",
    "        return i-1   "
   ]
  },
  {
   "cell_type": "code",
   "execution_count": 7,
   "metadata": {},
   "outputs": [],
   "source": [
    "def dicionario_por_grupo():\n",
    "    global lista_sent\n",
    "    global tam_lista_sent\n",
    "    \n",
    "    aux_lista_sent = []\n",
    "    aux_dic_sentimentos = {}\n",
    "    \n",
    "    for i in range(0, tam_lista_sent):\n",
    "        indice = busca_indice_elemento(str(sentimentos_originais[i]))\n",
    "        \n",
    "        if indice != -1:\n",
    "            s, o, h = lista_sent.pop(indice)\n",
    "            \n",
    "            while s in dic_sentimentos or s in aux_dic_sentimentos:\n",
    "                indice = busca_indice_elemento(sentimentos_originais[i])\n",
    "                if indice != -1:\n",
    "                    s, o, h = lista_sent.pop(indice)\n",
    "                else:\n",
    "                    return aux_lista_sent, {}\n",
    "            \n",
    "            if indice != -1:\n",
    "                aux_dic_sentimentos[s] =  o    \n",
    "                url = \"https://www.sinonimos.com.br/\" + s\n",
    "                soup = BeautifulSoup(requests.get(url).text, \"html5lib\")            \n",
    "                retorno = soup.find_all('a', class_ ='sinonimo')\n",
    "                aux_lista_sent = aux_lista_sent + list(pd.Series(retorno).apply(lambda x: (str(x).split('>')[1][:-3], o, h+1)))\n",
    "            else:\n",
    "                return aux_lista_sent, {}\n",
    "        else:\n",
    "            return aux_lista_sent, {}\n",
    "        \n",
    "    return aux_lista_sent, aux_dic_sentimentos"
   ]
  },
  {
   "cell_type": "code",
   "execution_count": 8,
   "metadata": {},
   "outputs": [],
   "source": [
    "def cria_dicionario():\n",
    "    global lista_sent\n",
    "    global d\n",
    "    \n",
    "    for i in range(0, d):       \n",
    "    \n",
    "        lista_sent_provisoria = []\n",
    "        aux_dic = {'a': 0}\n",
    "\n",
    "        while lista_sent and aux_dic: \n",
    "            aux_lista, aux_dic = dicionario_por_grupo()\n",
    "            lista_sent_provisoria = lista_sent_provisoria + aux_lista    \n",
    "            dic_sentimentos.update(aux_dic)  \n",
    "            \n",
    "        lista_sent = lista_sent_provisoria[:]"
   ]
  },
  {
   "cell_type": "code",
   "execution_count": 9,
   "metadata": {},
   "outputs": [
    {
     "name": "stderr",
     "output_type": "stream",
     "text": [
      "/home/karine/anaconda3/lib/python3.7/site-packages/ipykernel_launcher.py:26: DeprecationWarning: The default dtype for empty Series will be 'object' instead of 'float64' in a future version. Specify a dtype explicitly to silence this warning.\n"
     ]
    }
   ],
   "source": [
    "busca_inicial()\n",
    "cria_dicionario()"
   ]
  },
  {
   "cell_type": "code",
   "execution_count": 10,
   "metadata": {},
   "outputs": [
    {
     "data": {
      "text/html": [
       "<div>\n",
       "<style scoped>\n",
       "    .dataframe tbody tr th:only-of-type {\n",
       "        vertical-align: middle;\n",
       "    }\n",
       "\n",
       "    .dataframe tbody tr th {\n",
       "        vertical-align: top;\n",
       "    }\n",
       "\n",
       "    .dataframe thead th {\n",
       "        text-align: right;\n",
       "    }\n",
       "</style>\n",
       "<table border=\"1\" class=\"dataframe\">\n",
       "  <thead>\n",
       "    <tr style=\"text-align: right;\">\n",
       "      <th></th>\n",
       "      <th>sent</th>\n",
       "    </tr>\n",
       "  </thead>\n",
       "  <tbody>\n",
       "    <tr>\n",
       "      <th>alegria</th>\n",
       "      <td>3072</td>\n",
       "    </tr>\n",
       "    <tr>\n",
       "      <th>medo</th>\n",
       "      <td>3072</td>\n",
       "    </tr>\n",
       "    <tr>\n",
       "      <th>nojo</th>\n",
       "      <td>3072</td>\n",
       "    </tr>\n",
       "    <tr>\n",
       "      <th>raiva</th>\n",
       "      <td>3072</td>\n",
       "    </tr>\n",
       "    <tr>\n",
       "      <th>tristeza</th>\n",
       "      <td>3072</td>\n",
       "    </tr>\n",
       "  </tbody>\n",
       "</table>\n",
       "</div>"
      ],
      "text/plain": [
       "          sent\n",
       "alegria   3072\n",
       "medo      3072\n",
       "nojo      3072\n",
       "raiva     3072\n",
       "tristeza  3072"
      ]
     },
     "execution_count": 10,
     "metadata": {},
     "output_type": "execute_result"
    }
   ],
   "source": [
    "pd.DataFrame(pd.DataFrame.from_dict(dic_sentimentos, orient='index', columns = ['sent'])['sent'].value_counts()).sort_index()"
   ]
  },
  {
   "cell_type": "code",
   "execution_count": 11,
   "metadata": {},
   "outputs": [],
   "source": [
    "(pd.DataFrame.from_dict(dic_sentimentos, orient='index')).to_csv('dic_sentimento_4_niveis_balanceado.txt', sep='\\t' )"
   ]
  }
 ],
 "metadata": {
  "kernelspec": {
   "display_name": "Python 3",
   "language": "python",
   "name": "python3"
  },
  "language_info": {
   "codemirror_mode": {
    "name": "ipython",
    "version": 3
   },
   "file_extension": ".py",
   "mimetype": "text/x-python",
   "name": "python",
   "nbconvert_exporter": "python",
   "pygments_lexer": "ipython3",
   "version": "3.7.6"
  }
 },
 "nbformat": 4,
 "nbformat_minor": 4
}
