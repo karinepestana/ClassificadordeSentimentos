{
 "cells": [
  {
   "cell_type": "code",
   "execution_count": 1,
   "metadata": {},
   "outputs": [],
   "source": [
    "from bs4 import BeautifulSoup\n",
    "import re\n",
    "import requests\n",
    "\n",
    "import pandas as pd \n",
    "\n",
    "import spacy\n",
    "import spacy.cli"
   ]
  },
  {
   "cell_type": "code",
   "execution_count": 2,
   "metadata": {},
   "outputs": [],
   "source": [
    "from time import sleep\n",
    "from random import randint"
   ]
  },
  {
   "cell_type": "code",
   "execution_count": 3,
   "metadata": {},
   "outputs": [],
   "source": [
    "dic_sentimentos = {}\n",
    "lista_sent = [('alegria','alegria', 0), ('tristeza','tristeza', 0), ('raiva','raiva', 0), ('nojo','nojo', 0), ('medo','medo', 0)]\n",
    "#lista_sent = [('raiva','raiva', 0), ('nojo','nojo', 0), ('medo','medo', 0)]"
   ]
  },
  {
   "cell_type": "code",
   "execution_count": 4,
   "metadata": {},
   "outputs": [],
   "source": [
    "#aux = 'maca'\n",
    "#while (lista_sent != [] and aux != 'medo'):\n",
    "#    print('lala')"
   ]
  },
  {
   "cell_type": "code",
   "execution_count": 5,
   "metadata": {},
   "outputs": [],
   "source": [
    "def balancear_sentimentos():\n",
    "    #print('balancear chegou')\n",
    "    sent_desbalanceado = 'alegria'\n",
    "    m_desbalanceado = pd.DataFrame.from_dict(dic_sentimentos, orient='index', columns = ['sent'])['sent'].value_counts()[0]\n",
    "\n",
    "    for i in range(1,5):\n",
    "        v = pd.DataFrame.from_dict(dic_sentimentos, orient='index', columns = ['sent'])['sent'].value_counts()[i]\n",
    "        \n",
    "        if v < m_desbalanceado:\n",
    "            m_desbalanceado = v\n",
    "            if i == 1:\n",
    "                sent_desbalanceado = 'tristeza'\n",
    "            elif i == 2:\n",
    "                sent_desbalanceado = 'raiva'\n",
    "            elif i == 3:\n",
    "                sent_desbalanceado = 'nojo'\n",
    "            elif i == 4:\n",
    "                sent_desbalanceado = 'medo'\n",
    "                \n",
    "    #print('balancear saida')\n",
    "    return sent_desbalanceado"
   ]
  },
  {
   "cell_type": "code",
   "execution_count": 6,
   "metadata": {},
   "outputs": [],
   "source": [
    "def busca_elemento_lista(sentimento):\n",
    "    #print('busca chegou')\n",
    "    global lista_sent\n",
    "    \n",
    "    sent_origem = 'nulo'\n",
    "    i = 0\n",
    "    \n",
    "    while (i > len(lista_sent) and sent_origem != sentimento):\n",
    "        s, sent_origem, h = lista_sent[i]\n",
    "        i += 1\n",
    "    #print('busca saida')\n",
    "    return i-1    "
   ]
  },
  {
   "cell_type": "code",
   "execution_count": 7,
   "metadata": {},
   "outputs": [],
   "source": [
    "def cria_dicionario():\n",
    "    global lista_sent\n",
    "    \n",
    "    if len(dic_sentimentos) < 10:\n",
    "        s, o, h = lista_sent.pop(0)\n",
    "    else:        \n",
    "        sd = balancear_sentimentos()\n",
    "        indice = busca_elemento_lista(sd)\n",
    "        s, o, h = lista_sent.pop(indice)\n",
    "\n",
    "    #verifica se a palavra está no dicionario\n",
    "    if s in dic_sentimentos:\n",
    "        return\n",
    "    \n",
    "    if h > d:\n",
    "        dic_sentimentos[s] =  o\n",
    "        return\n",
    "    \n",
    "    #caso as verificações estejam ok, adiciona no dicionário e faz a busca \n",
    "    \n",
    "    dic_sentimentos[s] =  o\n",
    "    \n",
    "    url = \"https://www.sinonimos.com.br/\" + s\n",
    "    soup = BeautifulSoup(requests.get(url).text, \"html5lib\")\n",
    "    retorno = soup.find_all('a', class_ ='sinonimo')\n",
    "    lista_sent = lista_sent + list(pd.Series(retorno).apply(lambda x: (str(x).split('>')[1][:-3], o, h+1)))\n",
    "    \n",
    "    #sleep(randint(1,3))\n",
    "    \n",
    "    cria_dicionario() "
   ]
  },
  {
   "cell_type": "code",
   "execution_count": 8,
   "metadata": {},
   "outputs": [
    {
     "name": "stderr",
     "output_type": "stream",
     "text": [
      "/home/karine/anaconda3/lib/python3.7/site-packages/ipykernel_launcher.py:26: DeprecationWarning: The default dtype for empty Series will be 'object' instead of 'float64' in a future version. Specify a dtype explicitly to silence this warning.\n"
     ]
    }
   ],
   "source": [
    "d = 3\n",
    "\n",
    "while lista_sent != []:\n",
    "    cria_dicionario()"
   ]
  },
  {
   "cell_type": "code",
   "execution_count": 9,
   "metadata": {},
   "outputs": [],
   "source": [
    "(pd.DataFrame.from_dict(dic_sentimentos, orient='index')).to_csv('dic_sentimento_3_niveis_atualizado.txt', sep='\\t' )"
   ]
  },
  {
   "cell_type": "code",
   "execution_count": 10,
   "metadata": {},
   "outputs": [
    {
     "data": {
      "text/plain": [
       "nojo        1248\n",
       "alegria     1061\n",
       "medo         438\n",
       "raiva        334\n",
       "tristeza     286\n",
       "Name: sent, dtype: int64"
      ]
     },
     "execution_count": 10,
     "metadata": {},
     "output_type": "execute_result"
    }
   ],
   "source": [
    "pd.DataFrame.from_dict(dic_sentimentos, orient='index', columns = ['sent'])['sent'].value_counts()"
   ]
  }
 ],
 "metadata": {
  "kernelspec": {
   "display_name": "Python 3",
   "language": "python",
   "name": "python3"
  },
  "language_info": {
   "codemirror_mode": {
    "name": "ipython",
    "version": 3
   },
   "file_extension": ".py",
   "mimetype": "text/x-python",
   "name": "python",
   "nbconvert_exporter": "python",
   "pygments_lexer": "ipython3",
   "version": "3.7.6"
  }
 },
 "nbformat": 4,
 "nbformat_minor": 4
}
