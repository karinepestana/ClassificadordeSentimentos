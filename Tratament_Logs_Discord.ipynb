{
 "cells": [
  {
   "cell_type": "markdown",
   "metadata": {},
   "source": [
    "# Tratamento Dados Originais"
   ]
  },
  {
   "cell_type": "code",
   "execution_count": 1,
   "metadata": {},
   "outputs": [],
   "source": [
    "Logs_Original = open('logs/EmpMaq.txt', 'r', encoding='utf8')\n",
    "Arquivo_Preprocessado = open('logs/EmpSem_PreProcessado.txt', 'w+')"
   ]
  },
  {
   "cell_type": "code",
   "execution_count": 2,
   "metadata": {},
   "outputs": [],
   "source": [
    "agente = ''\n",
    "for i in Logs_Original:\n",
    "    novo_agente = 'nulo'\n",
    "    #print('oi')\n",
    "    if (i[-11:] == '06/01/2020\\n') or (i[-11:] == '06/02/2020\\n'):\n",
    "        novo_agente = i[:-11]\n",
    "\n",
    "    if novo_agente == 'nulo':\n",
    "        Arquivo_Preprocessado.writelines(str(agente + '\\t' + i))\n",
    "    else: \n",
    "        if novo_agente == 'AgAt1 - Juliano Storch':\n",
    "            agente = 'AgAT1'\n",
    "        elif novo_agente == 'AgAt2':\n",
    "            agente = 'AgAT2'\n",
    "        elif novo_agente == 'AgCD1 - Fiscal Cidadela':\n",
    "            agente = 'AgCD1|Fiscal CD'\n",
    "        elif novo_agente == 'AgCD2 / PrefeitoCD - GustavoLima':\n",
    "            agente = 'AgCD2|Prefeito CD'\n",
    "        elif novo_agente == 'AgCD3 | VerCD':\n",
    "            agente = 'AgCD3|Vereador CD'\n",
    "        elif novo_agente == 'EmpMaq - PrefeitaATLANTIS':\n",
    "            agente = 'EmpMaq|Prefeito AT'\n",
    "        elif novo_agente == 'EmpSem / Fiscal - Bruno':\n",
    "            agente = 'EmpSem|Fiscal AT' "
   ]
  },
  {
   "cell_type": "code",
   "execution_count": 3,
   "metadata": {},
   "outputs": [],
   "source": [
    "Logs_Original.close()\n",
    "Arquivo_Preprocessado.close()"
   ]
  }
 ],
 "metadata": {
  "kernelspec": {
   "display_name": "Python 3",
   "language": "python",
   "name": "python3"
  },
  "language_info": {
   "codemirror_mode": {
    "name": "ipython",
    "version": 3
   },
   "file_extension": ".py",
   "mimetype": "text/x-python",
   "name": "python",
   "nbconvert_exporter": "python",
   "pygments_lexer": "ipython3",
   "version": "3.7.6"
  }
 },
 "nbformat": 4,
 "nbformat_minor": 4
}
