{
 "cells": [
  {
   "cell_type": "code",
   "execution_count": 1,
   "metadata": {},
   "outputs": [],
   "source": [
    "import re"
   ]
  },
  {
   "cell_type": "markdown",
   "metadata": {},
   "source": [
    "# Tratamento Dados"
   ]
  },
  {
   "cell_type": "code",
   "execution_count": 26,
   "metadata": {},
   "outputs": [],
   "source": [
    "Logs_Original = open('logs/Logs_Originais_P9/Etapa2Cidadela.txt', 'r', encoding='utf8')\n",
    "Arquivo_Preprocessado = open('logs/Logs_Processados_P9/Etapa2Cidadela_PreProcessado.txt', 'w+')"
   ]
  },
  {
   "cell_type": "code",
   "execution_count": 27,
   "metadata": {},
   "outputs": [],
   "source": [
    "agente_atual = ''\n",
    "eleicao = 0\n",
    "for log in Logs_Original:\n",
    "    aux = ''\n",
    "    msg = ''\n",
    "    agente = 'nulo'\n",
    "    \n",
    "    if (log[-3:] == 'AM\\n') or (log[-3:] == 'PM\\n'):\n",
    "        m = re.search('Today', log)\n",
    "        if m == None:\n",
    "            m = re.search('Yesterday', log)\n",
    "        a, b = m.span()\n",
    "        agente = log[0:a]\n",
    "        agente_atual = agente        \n",
    "    elif (log[-11:] == '11/03/2020\\n'):\n",
    "        agente = log[:-11]\n",
    "        agente_atual = agente          \n",
    "\n",
    "    if agente == 'nulo':\n",
    "        Arquivo_Preprocessado.writelines(str(agente_atual + '\\t' + log))"
   ]
  },
  {
   "cell_type": "code",
   "execution_count": 28,
   "metadata": {},
   "outputs": [],
   "source": [
    "Logs_Original.close()\n",
    "Arquivo_Preprocessado.close()"
   ]
  },
  {
   "cell_type": "markdown",
   "metadata": {},
   "source": [
    "### Reorganiza papéis pós eleição (Exemplo)"
   ]
  },
  {
   "cell_type": "code",
   "execution_count": 5,
   "metadata": {},
   "outputs": [
    {
     "ename": "FileNotFoundError",
     "evalue": "[Errno 2] No such file or directory: 'logs/Etapa2CidadelaPreProcessado.txt'",
     "output_type": "error",
     "traceback": [
      "\u001b[0;31m---------------------------------------------------------------------------\u001b[0m",
      "\u001b[0;31mFileNotFoundError\u001b[0m                         Traceback (most recent call last)",
      "\u001b[0;32m<ipython-input-5-854f3d68e8ac>\u001b[0m in \u001b[0;36m<module>\u001b[0;34m\u001b[0m\n\u001b[0;32m----> 1\u001b[0;31m \u001b[0mLogs_Original\u001b[0m \u001b[0;34m=\u001b[0m \u001b[0mopen\u001b[0m\u001b[0;34m(\u001b[0m\u001b[0;34m'logs/Etapa2CidadelaPreProcessado.txt'\u001b[0m\u001b[0;34m,\u001b[0m \u001b[0;34m'r'\u001b[0m\u001b[0;34m,\u001b[0m \u001b[0mencoding\u001b[0m\u001b[0;34m=\u001b[0m\u001b[0;34m'utf8'\u001b[0m\u001b[0;34m)\u001b[0m\u001b[0;34m\u001b[0m\u001b[0;34m\u001b[0m\u001b[0m\n\u001b[0m\u001b[1;32m      2\u001b[0m \u001b[0mArquivo_Preprocessado\u001b[0m \u001b[0;34m=\u001b[0m \u001b[0mopen\u001b[0m\u001b[0;34m(\u001b[0m\u001b[0;34m'logs/Etapa2Cidadela_PreProcessado_Atualizado.txt'\u001b[0m\u001b[0;34m,\u001b[0m \u001b[0;34m'w+'\u001b[0m\u001b[0;34m)\u001b[0m\u001b[0;34m\u001b[0m\u001b[0;34m\u001b[0m\u001b[0m\n",
      "\u001b[0;31mFileNotFoundError\u001b[0m: [Errno 2] No such file or directory: 'logs/Etapa2CidadelaPreProcessado.txt'"
     ]
    }
   ],
   "source": [
    "Logs_Original = open('logs/Etapa2CidadelaPreProcessado.txt', 'r', encoding='utf8')\n",
    "Arquivo_Preprocessado = open('logs/Etapa2Cidadela_PreProcessado_Atualizado.txt', 'w+')"
   ]
  },
  {
   "cell_type": "code",
   "execution_count": null,
   "metadata": {},
   "outputs": [],
   "source": [
    "flag = 0\n",
    "for i in Logs_Original:\n",
    "\n",
    "    if str(i) == 'RODADA 3\\n':\n",
    "        flag = 1\n",
    "        \n",
    "    if flag == 1:        \n",
    "        Arquivo_Preprocessado.writelines(i)\n",
    "        #print(i)\n",
    "    else:\n",
    "        if 'AgCD1|Fiscal CD' in str(i) or 'AgCD3|Vereador CD' in str(i):\n",
    "            agente, frase = str(i).split('\\t')\n",
    "            if agente == 'AgCD1|Fiscal CD':\n",
    "                agente = 'AgCD1|Vereador CD'\n",
    "            elif agente == 'AgCD3|Vereador CD':\n",
    "                agente = 'AgCD3|Fiscal CD'\n",
    "            Arquivo_Preprocessado.writelines(str(agente + '\\t' + frase))\n",
    "        else:\n",
    "            Arquivo_Preprocessado.writelines(str(i))"
   ]
  },
  {
   "cell_type": "code",
   "execution_count": null,
   "metadata": {},
   "outputs": [],
   "source": [
    "Logs_Original.close()\n",
    "Arquivo_Preprocessado.close()"
   ]
  }
 ],
 "metadata": {
  "kernelspec": {
   "display_name": "Python 3",
   "language": "python",
   "name": "python3"
  },
  "language_info": {
   "codemirror_mode": {
    "name": "ipython",
    "version": 3
   },
   "file_extension": ".py",
   "mimetype": "text/x-python",
   "name": "python",
   "nbconvert_exporter": "python",
   "pygments_lexer": "ipython3",
   "version": "3.8.5"
  }
 },
 "nbformat": 4,
 "nbformat_minor": 4
}
