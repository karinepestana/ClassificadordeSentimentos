{
 "cells": [
  {
   "cell_type": "code",
   "execution_count": 6,
   "metadata": {},
   "outputs": [],
   "source": [
    "import re"
   ]
  },
  {
   "cell_type": "code",
   "execution_count": 5,
   "metadata": {},
   "outputs": [
    {
     "data": {
      "text/plain": [
       "['',\n",
       " 'AgCD3 Pode ser agricultor! ',\n",
       " 'Agricultor AT2 Venda realizada, obrigada pela compra!']"
      ]
     },
     "execution_count": 5,
     "metadata": {},
     "output_type": "execute_result"
    }
   ],
   "source": [
    "(\"@AgCD3 Pode ser agricultor! @Agricultor AT2 Venda realizada, obrigada pela compra!\").split('@') "
   ]
  },
  {
   "cell_type": "markdown",
   "metadata": {},
   "source": [
    "# Tratamento Dados"
   ]
  },
  {
   "cell_type": "code",
   "execution_count": 35,
   "metadata": {},
   "outputs": [],
   "source": [
    "Logs_Original = open('logs/Logs_Originais_P7/Etapa2Atlantis.txt', 'r', encoding='utf8')\n",
    "Arquivo_Preprocessado = open('logs/Logs_Processados_P7/Etapa2Atlantis_PreProcessado.txt', 'w+')"
   ]
  },
  {
   "cell_type": "code",
   "execution_count": 36,
   "metadata": {},
   "outputs": [],
   "source": [
    "agente = ''\n",
    "eleicao = 0\n",
    "for log in Logs_Original:\n",
    "    aux = ''\n",
    "    msg = ''\n",
    "    antigo_agente = 'nulo'\n",
    "    \n",
    "    #if (log[-11:] == '06/01/2020\\n') or (log[-11:] == '06/02/2020\\n'):\n",
    "    #    novo_agente = log[:-11]\n",
    "    \n",
    "    if (log[-3:] == 'AM\\n') or (log[-3:] == 'PM\\n'):\n",
    "        m = re.search('Today', log)\n",
    "        if m == None:\n",
    "            m = re.search('Yesterday', log)\n",
    "        a, b = m.span()\n",
    "        antigo_agente = log[0:a]\n",
    "    elif (log[-11:] == '08/18/2020\\n') or (log[-11:] == '08/19/2020\\n'):\n",
    "        antigo_agente = log[:-11]\n",
    "\n",
    "    if antigo_agente == 'nulo':        \n",
    "        if agente == 'Karine':\n",
    "    #        Arquivo_Preprocessado.writelines(log)\n",
    "    #        if log == 'RODADA 3\\n'\n",
    "    #        eleicao = 1\n",
    "            #m = re.search('RODADA', log)\n",
    "            #if m == None:\n",
    "            #    aux = 'EmpSem|Fiscal AT'\n",
    "            #else:\n",
    "                msg = str(log)                \n",
    "        if '@' in log:\n",
    "            frase_remontada = ''\n",
    "            res = log.split('@')         \n",
    "            \n",
    "            \n",
    "            #if 'EmpMáq/VereAtlantis' in log:\n",
    "            #    frase_remontada = frase_remontada + res[0] + '@' + 'EmpAgr|Vereador CD' + res[1][19:]\n",
    "            #elif 'Fiscal Atlantis/AgAT1' in log:\n",
    "            #    frase_remontada = frase_remontada + res[0] + '@' + 'AgAT1|Fiscal AT' + res[1][21:]\n",
    "            #elif 'AgCD1|Fiscal Cidadela' in log:\n",
    "            #    frase_remontada = frase_remontada + res[0] + '@' + 'AgCD1|Fiscal CD' + res[1][21:]\n",
    "            #elif 'Agricultor AT2' in log:\n",
    "            #    frase_remontada = frase_remontada + res[0] + '@' + 'AgAT2' + res[1][14:]\n",
    "            #else\n",
    "            \n",
    "            if len(res) > 1:\n",
    "                for i in range(1,len(res),1):                 \n",
    "                    if 'EmpMáq/VereAtlantis' in res[i]:\n",
    "                        frase_remontada = frase_remontada + '@' + 'EmpAgr|Vereador AT' + res[i][19:]\n",
    "                    elif 'Fiscal Atlantis/AgAT1' in res[i]:\n",
    "                        frase_remontada = frase_remontada + '@' + 'AgAT1|Fiscal AT' + res[i][21:]\n",
    "                    elif 'AgCD1|Fiscal Cidadela' in res[i]:\n",
    "                        frase_remontada = frase_remontada + '@' + 'AgCD1|Fiscal CD' + res[i][21:]\n",
    "                    elif 'Agricultor AT2' in res[i]:\n",
    "                        frase_remontada = frase_remontada + '@' + 'AgAT2' + res[i][14:]\n",
    "                    else:\n",
    "                        frase_remontada = frase_remontada + '@' + res[i]\n",
    "                        \n",
    "                frase_remontada = res[0] + frase_remontada\n",
    "                   #REMOVER\n",
    "                    \n",
    "                    #if eleicao == 1:                    \n",
    "            #if aux != '':\n",
    "            #    agente = aux\n",
    "            Arquivo_Preprocessado.writelines(str(agente + '\\t' + frase_remontada))\n",
    "        else:\n",
    "            if msg != '':\n",
    "                Arquivo_Preprocessado.writelines(msg)           \n",
    "            else:\n",
    "                Arquivo_Preprocessado.writelines(str(agente + '\\t' + log))\n",
    "    else:\n",
    "        if antigo_agente == 'EmpAgr|Vereador CD':\n",
    "            agente = 'EmpAgr|Vereador CD'\n",
    "        elif antigo_agente == 'EmpFert':\n",
    "            agente = 'EmpFert'            \n",
    "        elif antigo_agente == 'EmpMáq/VereAtlantis':\n",
    "            agente = 'EmpMaq|Vereador AT'            \n",
    "        elif antigo_agente == 'Fiscal Atlantis/AgAT1':\n",
    "            agente = 'AgAT1|Fiscal AT'\n",
    "        elif antigo_agente == 'AgCD2|Prefeito CD':\n",
    "            agente = 'AgCD2|Prefeito CD'  \n",
    "        elif antigo_agente == 'AgAT3':\n",
    "            agente = 'AgAT3'\n",
    "        elif antigo_agente == 'AgCD3':\n",
    "            agente = 'AgCD3'\n",
    "        elif antigo_agente == 'AgCD1|Fiscal Cidadela':\n",
    "            agente = 'AgCD1|Fiscal CD'\n",
    "        elif antigo_agente == 'Agricultor AT2':\n",
    "            agente = 'AgAT2'\n",
    "        else:\n",
    "            agente = antigo_agente\n",
    "        #if eleicao == 1:"
   ]
  },
  {
   "cell_type": "code",
   "execution_count": 37,
   "metadata": {},
   "outputs": [],
   "source": [
    "Logs_Original.close()\n",
    "Arquivo_Preprocessado.close()"
   ]
  },
  {
   "cell_type": "markdown",
   "metadata": {},
   "source": [
    "### Reorganiza papéis pós eleição (Exemplo)"
   ]
  },
  {
   "cell_type": "code",
   "execution_count": 4,
   "metadata": {},
   "outputs": [],
   "source": [
    "Logs_Original = open('logs/Etapa2CidadelaPreProcessado.txt', 'r', encoding='utf8')\n",
    "Arquivo_Preprocessado = open('logs/Etapa2Cidadela_PreProcessado_Atualizado.txt', 'w+')"
   ]
  },
  {
   "cell_type": "code",
   "execution_count": 5,
   "metadata": {},
   "outputs": [],
   "source": [
    "flag = 0\n",
    "for i in Logs_Original:\n",
    "\n",
    "    if str(i) == 'RODADA 3\\n':\n",
    "        flag = 1\n",
    "        \n",
    "    if flag == 1:        \n",
    "        Arquivo_Preprocessado.writelines(i)\n",
    "        #print(i)\n",
    "    else:\n",
    "        if 'AgCD1|Fiscal CD' in str(i) or 'AgCD3|Vereador CD' in str(i):\n",
    "            agente, frase = str(i).split('\\t')\n",
    "            if agente == 'AgCD1|Fiscal CD':\n",
    "                agente = 'AgCD1|Vereador CD'\n",
    "            elif agente == 'AgCD3|Vereador CD':\n",
    "                agente = 'AgCD3|Fiscal CD'\n",
    "            Arquivo_Preprocessado.writelines(str(agente + '\\t' + frase))\n",
    "        else:\n",
    "            Arquivo_Preprocessado.writelines(str(i))"
   ]
  },
  {
   "cell_type": "code",
   "execution_count": 6,
   "metadata": {},
   "outputs": [],
   "source": [
    "Logs_Original.close()\n",
    "Arquivo_Preprocessado.close()"
   ]
  }
 ],
 "metadata": {
  "kernelspec": {
   "display_name": "Python 3",
   "language": "python",
   "name": "python3"
  },
  "language_info": {
   "codemirror_mode": {
    "name": "ipython",
    "version": 3
   },
   "file_extension": ".py",
   "mimetype": "text/x-python",
   "name": "python",
   "nbconvert_exporter": "python",
   "pygments_lexer": "ipython3",
   "version": "3.7.6"
  }
 },
 "nbformat": 4,
 "nbformat_minor": 4
}
