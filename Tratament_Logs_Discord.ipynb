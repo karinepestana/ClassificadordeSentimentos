{
 "cells": [
  {
   "cell_type": "markdown",
   "metadata": {},
   "source": [
    "# Tratamento Dados Originais"
   ]
  },
  {
   "cell_type": "code",
   "execution_count": 4,
   "metadata": {},
   "outputs": [],
   "source": [
    "Logs_Original = open('logs/Logs_Originais_P5/Etapa2Cidadela.txt', 'r', encoding='utf8')\n",
    "Arquivo_Preprocessado = open('logs/Logs_Processados_P5/Etapa2CidadelaPreProcessado.txt', 'w+')"
   ]
  },
  {
   "cell_type": "code",
   "execution_count": 5,
   "metadata": {},
   "outputs": [],
   "source": [
    "agente = ''\n",
    "for i in Logs_Original:\n",
    "    novo_agente = 'nulo'\n",
    "    if (i[-11:] == '06/01/2020\\n') or (i[-11:] == '06/02/2020\\n'):\n",
    "        novo_agente = i[:-11]\n",
    "\n",
    "    if novo_agente == 'nulo':\n",
    "        if '@' in i:\n",
    "            res = i.split('@')\n",
    "            if 'AgAT2 - Prefeita de Atlantis' in i:                \n",
    "                i = res[0] + '@' + 'AgCD1|Fiscal CD' + res[1][28:]\n",
    "            elif 'EmpSem | FiscalAT' in i:\n",
    "                i = res[0] + '@' + 'AgCD2|Prefeito CD' + res[1][17:]\n",
    "            elif 'EmpSem | FiscalAtlantis' in i:\n",
    "                i = res[0] + '@' + 'AgCD2|Prefeito CD' + res[1][23:]\n",
    "            elif 'EmpMaq' in i:\n",
    "                i = res[0] + '@' + 'AgCD3|Vereador CD' + res[1][6:]\n",
    "            elif 'Giu' in i:\n",
    "                i = res[0] + '@' + 'EmpFert' + res[1][3:]\n",
    "            elif 'AgCD3|PrefeitoCD' in i:\n",
    "                i = res[0] + '@' + 'EmpSem|Fiscal AT' + res[1][16:]\n",
    "            elif 'EmpAgrot' in i:\n",
    "                i = res[0] + '@' + 'EmpAgro' + res[1][8:]\n",
    "            elif 'Gabriella Selbach' in i:\n",
    "                i = res[0] + '@' + 'EmpMaq|Prefeito AT' + res[1][17:] \n",
    "        Arquivo_Preprocessado.writelines(str(agente + '\\t' + i))\n",
    "    else: \n",
    "        if novo_agente == 'AgAT2 - Prefeita de Atlantis':\n",
    "            agente = 'AgCD1|Fiscal CD'\n",
    "        elif novo_agente == 'EmpSem | FiscalAT':\n",
    "            agente = 'AgCD2|Prefeito CD'       \n",
    "        elif novo_agente == 'EmpSem | FiscalAtlantis':\n",
    "            agente = 'AgCD2|Prefeito CD'\n",
    "        elif novo_agente == 'EmpMaq':\n",
    "            agente = 'AgCD3|Vereador CD'\n",
    "        elif novo_agente == 'Giu':\n",
    "            agente = 'EmpFert'\n",
    "        elif novo_agente == 'AgCD3|PrefeitoCD':\n",
    "            agente = 'EmpSem|Fiscal AT'\n",
    "        elif novo_agente == 'EmpAgrot':\n",
    "            agente = 'EmpAgro'\n",
    "        elif novo_agente == 'Gabriella Selbach':\n",
    "            agente = 'EmpMaq|Prefeito AT'"
   ]
  },
  {
   "cell_type": "code",
   "execution_count": 6,
   "metadata": {},
   "outputs": [],
   "source": [
    "Logs_Original.close()\n",
    "Arquivo_Preprocessado.close()"
   ]
  },
  {
   "cell_type": "markdown",
   "metadata": {},
   "source": [
    "# Tratamento Dados 100%"
   ]
  },
  {
   "cell_type": "code",
   "execution_count": 43,
   "metadata": {},
   "outputs": [
    {
     "name": "stdout",
     "output_type": "stream",
     "text": [
      "AgCD3|PrefeitoCD\n"
     ]
    }
   ],
   "source": [
    "import re\n",
    "\n",
    "x = 'AgCD3|PrefeitoCDToday at 9:51 AM'\n",
    "\n",
    "m = re.search('Today', x)\n",
    "a, b = m.span()\n",
    "print(x[0:16])"
   ]
  },
  {
   "cell_type": "code",
   "execution_count": 62,
   "metadata": {},
   "outputs": [],
   "source": [
    "Logs_Original = open('logs/Logs_Originais_P6/EmpSem.txt', 'r', encoding='utf8')\n",
    "Arquivo_Preprocessado = open('logs/Logs_Processados_P6/EmpSem_PreProcessado.txt', 'w+')"
   ]
  },
  {
   "cell_type": "code",
   "execution_count": 63,
   "metadata": {},
   "outputs": [],
   "source": [
    "agente = ''\n",
    "eleicao = 0\n",
    "for log in Logs_Original:\n",
    "    aux = ''\n",
    "    msg = ''\n",
    "    antigo_agente = 'nulo'\n",
    "    \n",
    "    #if (log[-11:] == '06/01/2020\\n') or (log[-11:] == '06/02/2020\\n'):\n",
    "    #    novo_agente = log[:-11]\n",
    "    \n",
    "    if (log[-3:] == 'AM\\n') or (log[-3:] == 'PM\\n'):\n",
    "        m = re.search('Today', log)\n",
    "        if m == None:\n",
    "            m = re.search('Yesterday', log)\n",
    "        a, b = m.span()\n",
    "        antigo_agente = log[0:a] \n",
    "\n",
    "    if antigo_agente == 'nulo':        \n",
    "        if agente == 'Karine':\n",
    "    #        Arquivo_Preprocessado.writelines(log)\n",
    "    #        if log == 'RODADA 3\\n'\n",
    "    #        eleicao = 1\n",
    "            m = re.search('RODADA', log)\n",
    "            if m == None:\n",
    "                aux = 'EmpSem|Fiscal AT'\n",
    "            else:\n",
    "                msg = str(log)                \n",
    "        if '@' in log:\n",
    "            frase_remontada = ''\n",
    "            res = log.split('@')            \n",
    "            for i in range(0,len(res),2):                \n",
    "                if 'AgAT2 - Prefeita de Atlantis' in log:\n",
    "                    frase_remontada = frase_remontada + res[i] + '@' + 'AgAT2|Prefeita de Atlantis' + res[i+1][28:]\n",
    "                elif 'AgAt3' in log:\n",
    "                    frase_remontada = frase_remontada + res[i] + '@' + 'AgAT3' + res[i+1][5:]\n",
    "                elif 'AgCD1 | VereadorCD' in log:\n",
    "                    frase_remontada = frase_remontada + res[i] + '@' + 'AgCD1|VereadorCD' + res[i+1][18:]\n",
    "                elif 'EmpSem | FiscalAtlantis' in log:\n",
    "                    frase_remontada = frase_remontada + res[i] + '@' + 'EmpSem|Fiscal AT' + res[i+1][23:]\n",
    "                elif 'EmpSem | FiscalAT' in log:\n",
    "                    frase_remontada = frase_remontada + res[i] + '@' + 'EmpSem|Fiscal AT' + res[i+1][17:]\n",
    "                #REMOVER\n",
    "                elif 'Karine' in log:\n",
    "                    frase_remontada = frase_remontada + res[i] + '@' + 'EmpSem|Fiscal AT' + res[i+1][6:]\n",
    "                else:\n",
    "                    frase_remontada = frase_remontada + res[i] + '@' + res[i+1]\n",
    "                #if eleicao == 1:                    \n",
    "            if aux != '':\n",
    "                agente = aux\n",
    "            Arquivo_Preprocessado.writelines(str(agente + '\\t' + frase_remontada))\n",
    "        else:\n",
    "            if msg != '':\n",
    "                Arquivo_Preprocessado.writelines(msg)           \n",
    "            else:\n",
    "                Arquivo_Preprocessado.writelines(str(agente + '\\t' + log))\n",
    "    else:\n",
    "        if antigo_agente == 'AgAT2 - Prefeita de Atlantis':\n",
    "            agente = 'AgAT2|Prefeita de Atlantis'\n",
    "        elif antigo_agente == 'AgAt3':\n",
    "            agente = 'AgAT3'            \n",
    "        elif antigo_agente == 'AgCD1 | VereadorCD':\n",
    "            agente = 'AgCD1|VereadorCD'            \n",
    "        elif antigo_agente == 'AgCD2':\n",
    "            agente = 'AgCD2'\n",
    "        elif antigo_agente == 'AgCD3|PrefeitoCD':\n",
    "            agente = 'AgCD3|PrefeitoCD'  \n",
    "        elif antigo_agente == 'EmpMaq':\n",
    "            agente = 'EmpMaq'\n",
    "        elif antigo_agente == 'EmpSem | FiscalAtlantis':\n",
    "            agente = 'EmpSem|Fiscal AT'\n",
    "        elif antigo_agente == 'EmpSem | FiscalAT':\n",
    "            agente = 'EmpSem|Fiscal AT'\n",
    "        elif antigo_agente == 'EmpFert|FiscalCD':\n",
    "            agente = 'EmpFert|FiscalCD'\n",
    "        elif antigo_agente == 'EmpAgro':\n",
    "            agente = 'EmpAgro'\n",
    "        else:\n",
    "            agente = antigo_agente\n",
    "        #if eleicao == 1:"
   ]
  },
  {
   "cell_type": "code",
   "execution_count": 64,
   "metadata": {},
   "outputs": [],
   "source": [
    "Logs_Original.close()\n",
    "Arquivo_Preprocessado.close()"
   ]
  },
  {
   "cell_type": "markdown",
   "metadata": {},
   "source": [
    "### Reorganiza papéis pós eleição (Exemplo)"
   ]
  },
  {
   "cell_type": "code",
   "execution_count": 4,
   "metadata": {},
   "outputs": [],
   "source": [
    "Logs_Original = open('logs/Etapa2CidadelaPreProcessado.txt', 'r', encoding='utf8')\n",
    "Arquivo_Preprocessado = open('logs/Etapa2Cidadela_PreProcessado_Atualizado.txt', 'w+')"
   ]
  },
  {
   "cell_type": "code",
   "execution_count": 5,
   "metadata": {},
   "outputs": [],
   "source": [
    "flag = 0\n",
    "for i in Logs_Original:\n",
    "\n",
    "    if str(i) == 'RODADA 3\\n':\n",
    "        flag = 1\n",
    "        \n",
    "    if flag == 1:        \n",
    "        Arquivo_Preprocessado.writelines(i)\n",
    "        #print(i)\n",
    "    else:\n",
    "        if 'AgCD1|Fiscal CD' in str(i) or 'AgCD3|Vereador CD' in str(i):\n",
    "            agente, frase = str(i).split('\\t')\n",
    "            if agente == 'AgCD1|Fiscal CD':\n",
    "                agente = 'AgCD1|Vereador CD'\n",
    "            elif agente == 'AgCD3|Vereador CD':\n",
    "                agente = 'AgCD3|Fiscal CD'\n",
    "            Arquivo_Preprocessado.writelines(str(agente + '\\t' + frase))\n",
    "        else:\n",
    "            Arquivo_Preprocessado.writelines(str(i))"
   ]
  },
  {
   "cell_type": "code",
   "execution_count": 6,
   "metadata": {},
   "outputs": [],
   "source": [
    "Logs_Original.close()\n",
    "Arquivo_Preprocessado.close()"
   ]
  }
 ],
 "metadata": {
  "kernelspec": {
   "display_name": "Python 3",
   "language": "python",
   "name": "python3"
  },
  "language_info": {
   "codemirror_mode": {
    "name": "ipython",
    "version": 3
   },
   "file_extension": ".py",
   "mimetype": "text/x-python",
   "name": "python",
   "nbconvert_exporter": "python",
   "pygments_lexer": "ipython3",
   "version": "3.7.6"
  }
 },
 "nbformat": 4,
 "nbformat_minor": 4
}
