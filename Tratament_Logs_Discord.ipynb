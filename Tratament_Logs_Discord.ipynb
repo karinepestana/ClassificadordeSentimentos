{
 "cells": [
  {
   "cell_type": "markdown",
   "metadata": {},
   "source": [
    "# Tratamento Dados Originais"
   ]
  },
  {
   "cell_type": "code",
   "execution_count": 44,
   "metadata": {},
   "outputs": [],
   "source": [
    "Logs_Original = open('logs/Logs_Originais/EmpSem.txt', 'r', encoding='utf8')\n",
    "Arquivo_Preprocessado = open('logs/EmpSem_PreProcessado.txt', 'w+')"
   ]
  },
  {
   "cell_type": "code",
   "execution_count": 45,
   "metadata": {},
   "outputs": [],
   "source": [
    "agente = ''\n",
    "for i in Logs_Original:\n",
    "    novo_agente = 'nulo'\n",
    "    #print('oi')\n",
    "    if (i[-11:] == '06/01/2020\\n') or (i[-11:] == '06/02/2020\\n'):\n",
    "        novo_agente = i[:-11]\n",
    "\n",
    "    if novo_agente == 'nulo':\n",
    "        Arquivo_Preprocessado.writelines(str(agente + '\\t' + i))\n",
    "    else: \n",
    "        if novo_agente == 'AgAt1 - Juliano Storch':\n",
    "            agente = 'AgAT1'\n",
    "        elif novo_agente == 'AgAt2':\n",
    "            agente = 'AgAT2'\n",
    "        elif novo_agente == 'AgAT3':\n",
    "            agente = 'AgAT3'\n",
    "        elif novo_agente == 'AgCD1 - Fiscal Cidadela':\n",
    "            agente = 'AgCD1|Fiscal CD'\n",
    "        elif novo_agente == 'AgCD2 / PrefeitoCD - GustavoLima':\n",
    "            agente = 'AgCD2|Prefeito CD'\n",
    "        elif novo_agente == 'AgCD3 | VerCD':\n",
    "            agente = 'AgCD3|Vereador CD'\n",
    "        elif novo_agente == 'EmpMaq - PrefeitaATLANTIS':\n",
    "            agente = 'EmpMaq|Prefeito AT'\n",
    "        elif novo_agente == 'EmpSem / Fiscal - Bruno':\n",
    "            agente = 'EmpSem|Fiscal AT' \n",
    "        elif novo_agente == 'EmpFert':\n",
    "            agente = 'EmpFert'\n",
    "        elif novo_agente == 'EmpAgrot':\n",
    "            agente = 'EmpAgro'"
   ]
  },
  {
   "cell_type": "code",
   "execution_count": 46,
   "metadata": {},
   "outputs": [],
   "source": [
    "Logs_Original.close()\n",
    "Arquivo_Preprocessado.close()"
   ]
  },
  {
   "cell_type": "markdown",
   "metadata": {},
   "source": [
    "# Reorganiza papéis pós eleição"
   ]
  },
  {
   "cell_type": "code",
   "execution_count": 71,
   "metadata": {},
   "outputs": [],
   "source": [
    "Logs_Original = open('logs/Etapa2Atlantis_PreProcessado.txt', 'r', encoding='utf8')\n",
    "Arquivo_Preprocessado = open('logs/Etapa2Atlantis_PreProcessado_Atualizado.txt', 'w+')"
   ]
  },
  {
   "cell_type": "code",
   "execution_count": 72,
   "metadata": {},
   "outputs": [],
   "source": [
    "flag = 0\n",
    "for i in Logs_Original:\n",
    "\n",
    "    if str(i) == 'RODADA 3\\n':\n",
    "        flag = 1\n",
    "        \n",
    "    if flag == 1:        \n",
    "        Arquivo_Preprocessado.writelines(i)\n",
    "        #print(i)\n",
    "    else:\n",
    "        if 'AgCD1|Fiscal CD' in str(i) or 'AgCD3|Vereador CD' in str(i):\n",
    "            agente, frase = str(i).split('\\t')\n",
    "            if agente == 'AgCD1|Fiscal CD':\n",
    "                agente = 'AgCD1|Vereador CD'\n",
    "            elif agente == 'AgCD3|Vereador CD':\n",
    "                agente = 'AgCD3|Fiscal CD'\n",
    "            Arquivo_Preprocessado.writelines(str(agente + '\\t' + frase))\n",
    "        else:\n",
    "            Arquivo_Preprocessado.writelines(str(i))"
   ]
  },
  {
   "cell_type": "code",
   "execution_count": 73,
   "metadata": {},
   "outputs": [],
   "source": [
    "Logs_Original.close()\n",
    "Arquivo_Preprocessado.close()"
   ]
  }
 ],
 "metadata": {
  "kernelspec": {
   "display_name": "Python 3",
   "language": "python",
   "name": "python3"
  },
  "language_info": {
   "codemirror_mode": {
    "name": "ipython",
    "version": 3
   },
   "file_extension": ".py",
   "mimetype": "text/x-python",
   "name": "python",
   "nbconvert_exporter": "python",
   "pygments_lexer": "ipython3",
   "version": "3.7.6"
  }
 },
 "nbformat": 4,
 "nbformat_minor": 4
}
