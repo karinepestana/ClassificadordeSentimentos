{
 "cells": [
  {
   "cell_type": "code",
   "execution_count": 1,
   "metadata": {},
   "outputs": [],
   "source": [
    "from bs4 import BeautifulSoup\n",
    "import re\n",
    "import requests\n",
    "\n",
    "import pandas as pd\n",
    "import numpy as np\n",
    "\n",
    "import spacy\n",
    "import spacy.cli"
   ]
  },
  {
   "cell_type": "code",
   "execution_count": 2,
   "metadata": {},
   "outputs": [],
   "source": [
    "from time import sleep\n",
    "from random import randint"
   ]
  },
  {
   "cell_type": "code",
   "execution_count": 3,
   "metadata": {},
   "outputs": [
    {
     "data": {
      "text/plain": [
       "False"
      ]
     },
     "execution_count": 3,
     "metadata": {},
     "output_type": "execute_result"
    }
   ],
   "source": [
    "my_array = np.array([5, 5, 5, 4, 4])\n",
    "l = 4\n",
    "(my_array-l).max() > 1"
   ]
  },
  {
   "cell_type": "code",
   "execution_count": 4,
   "metadata": {},
   "outputs": [],
   "source": [
    "dic_sentimentos = {}\n",
    "\n",
    "lista_sent = [('alegria','alegria', 0), ('medo','medo', 0), ('nojo','nojo', 0), ('raiva','raiva', 0), ('tristeza','tristeza', 0)]\n",
    "#lista_sent = [('raiva','raiva', 0), ('nojo','nojo', 0), ('medo','medo', 0)]"
   ]
  },
  {
   "cell_type": "code",
   "execution_count": 5,
   "metadata": {},
   "outputs": [],
   "source": [
    "#aux = 'maca'\n",
    "#while (lista_sent != [] and aux != 'medo'):\n",
    "#    print('lala')"
   ]
  },
  {
   "cell_type": "code",
   "execution_count": 6,
   "metadata": {},
   "outputs": [],
   "source": [
    "def verifica_balanco():\n",
    "    if len(dic_sentimentos) < 5:\n",
    "        return 1\n",
    "    \n",
    "    qt_dicionario = pd.DataFrame(pd.DataFrame.from_dict(dic_sentimentos, orient='index', columns = ['sent'])['sent'].value_counts()).sort_index()['sent'].tolist()\n",
    "    qt_dicionario = np.array(qt_dicionario)\n",
    "    \n",
    "    menor_valor = qt_dicionario.min()\n",
    "    \n",
    "    if (qt_dicionario-menor_valor).min() > 1:\n",
    "        return 0\n",
    "    else:\n",
    "        return 1    "
   ]
  },
  {
   "cell_type": "code",
   "execution_count": 7,
   "metadata": {},
   "outputs": [],
   "source": [
    "def balancear_sentimentos():\n",
    "    #print('balancear chegou')\n",
    "    #print(pd.DataFrame.from_dict(dic_sentimentos, orient='index', columns = ['sent'])['sent'].value_counts())\n",
    "    aux = pd.DataFrame(pd.DataFrame.from_dict(dic_sentimentos, orient='index', columns = ['sent'])['sent'].value_counts()).sort_index()['sent'].tolist()\n",
    "    sent_desbalanceado = ['alegria','medo','nojo','raiva','tristeza'][0]\n",
    "    m_desbalanceado = aux[0]\n",
    "\n",
    "    for i in range(1,len(aux)):\n",
    "        v = aux[i]\n",
    "        \n",
    "        if v < m_desbalanceado:\n",
    "            m_desbalanceado = v\n",
    "            sent_desbalanceado = ['alegria','medo','nojo','raiva','tristeza'][i]\n",
    "            \n",
    "    #if (aux-m_desbalanceado).max() > 1:\n",
    "    #    k = 0\n",
    "    #    print('aqui')\n",
    "    #else:\n",
    "    #    k = 1\n",
    "                \n",
    "    #print('balancear saida')\n",
    "    #print(sent_desbalanceado)\n",
    "    return sent_desbalanceado"
   ]
  },
  {
   "cell_type": "code",
   "execution_count": 8,
   "metadata": {},
   "outputs": [],
   "source": [
    "def busca_elemento_lista(sentimento):\n",
    "    #print('busca chegou')\n",
    "    global lista_sent\n",
    "    \n",
    "    sent_origem = 'nulo'\n",
    "    \n",
    "    i = 0\n",
    "    \n",
    "    while (i < len(lista_sent) and sent_origem != sentimento):\n",
    "        s, sent_origem, h = lista_sent[i]\n",
    "        #print('sent origem ' + sent_origem)\n",
    "        i += 1    \n",
    "\n",
    "    #print('i :' + str(i))\n",
    "    return i-1    "
   ]
  },
  {
   "cell_type": "code",
   "execution_count": 9,
   "metadata": {},
   "outputs": [],
   "source": [
    "def cria_dicionario():\n",
    "    global lista_sent\n",
    "    global d\n",
    "    \n",
    "    s, o, h = lista_sent.pop(0)\n",
    "    #print('\\nANTES')\n",
    "    #print('s ' + s)\n",
    "    #print('o ' + o)\n",
    "    \n",
    "    if s != o:\n",
    "        lista_sent.insert(0, (s, o, h))\n",
    "        sd = balancear_sentimentos()\n",
    "        #print('sd '+ sd)           \n",
    "        indice = busca_elemento_lista(sd)\n",
    "        #print('indice '+ str(indice))\n",
    "        s, o, h = lista_sent.pop(indice)\n",
    "\n",
    "    #print('\\nDEPOIS')\n",
    "    #print('s ' + s)\n",
    "    #print('o ' + o)\n",
    "\n",
    "    #verifica se a palavra está no dicionario\n",
    "    if s in dic_sentimentos:\n",
    "        return\n",
    "    \n",
    "    if h > d:\n",
    "        dic_sentimentos[s] =  o\n",
    "        return\n",
    "    \n",
    "    #caso as verificações estejam ok, adiciona no dicionário e faz a busca \n",
    "    \n",
    "    dic_sentimentos[s] =  o\n",
    "    #print('\\nDICIONARIO ')\n",
    "    #print(dic_sentimentos)\n",
    "    \n",
    "    url = \"https://www.sinonimos.com.br/\" + s\n",
    "    soup = BeautifulSoup(requests.get(url).text, \"html5lib\")\n",
    "    retorno = soup.find_all('a', class_ ='sinonimo')\n",
    "    lista_sent = lista_sent + list(pd.Series(retorno).apply(lambda x: (str(x).split('>')[1][:-3], o, h+1)))\n",
    "    \n",
    "    #sleep(randint(1,3))\n",
    "    \n",
    "    #cria_dicionario() "
   ]
  },
  {
   "cell_type": "code",
   "execution_count": 10,
   "metadata": {},
   "outputs": [
    {
     "name": "stderr",
     "output_type": "stream",
     "text": [
      "/home/karine/anaconda3/lib/python3.7/site-packages/ipykernel_launcher.py:39: DeprecationWarning: The default dtype for empty Series will be 'object' instead of 'float64' in a future version. Specify a dtype explicitly to silence this warning.\n"
     ]
    }
   ],
   "source": [
    "d = 1\n",
    "r = 1\n",
    "\n",
    "while lista_sent and verifica_balanco():    \n",
    "    cria_dicionario()\n",
    "    #print(len(lista_sent))"
   ]
  },
  {
   "cell_type": "code",
   "execution_count": 11,
   "metadata": {},
   "outputs": [],
   "source": [
    "(pd.DataFrame.from_dict(dic_sentimentos, orient='index')).to_csv('dic_sentimento_1_niveis_atualizado.txt', sep='\\t' )"
   ]
  },
  {
   "cell_type": "code",
   "execution_count": 12,
   "metadata": {},
   "outputs": [
    {
     "data": {
      "text/plain": [
       "alegria     296\n",
       "nojo        268\n",
       "tristeza    225\n",
       "raiva       182\n",
       "medo        181\n",
       "Name: sent, dtype: int64"
      ]
     },
     "execution_count": 12,
     "metadata": {},
     "output_type": "execute_result"
    }
   ],
   "source": [
    "pd.DataFrame.from_dict(dic_sentimentos, orient='index', columns = ['sent'])['sent'].value_counts()"
   ]
  },
  {
   "cell_type": "code",
   "execution_count": 13,
   "metadata": {},
   "outputs": [
    {
     "data": {
      "text/plain": [
       "[296, 181, 268, 182, 225]"
      ]
     },
     "execution_count": 13,
     "metadata": {},
     "output_type": "execute_result"
    }
   ],
   "source": [
    "pd.DataFrame(pd.DataFrame.from_dict(dic_sentimentos, orient='index', columns = ['sent'])['sent'].value_counts()).sort_index()['sent'].tolist()"
   ]
  }
 ],
 "metadata": {
  "kernelspec": {
   "display_name": "Python 3",
   "language": "python",
   "name": "python3"
  },
  "language_info": {
   "codemirror_mode": {
    "name": "ipython",
    "version": 3
   },
   "file_extension": ".py",
   "mimetype": "text/x-python",
   "name": "python",
   "nbconvert_exporter": "python",
   "pygments_lexer": "ipython3",
   "version": "3.7.6"
  }
 },
 "nbformat": 4,
 "nbformat_minor": 4
}
