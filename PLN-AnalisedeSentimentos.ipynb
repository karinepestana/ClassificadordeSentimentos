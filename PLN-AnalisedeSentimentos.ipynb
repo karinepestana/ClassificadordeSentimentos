{
 "cells": [
  {
   "cell_type": "markdown",
   "metadata": {},
   "source": [
    "# Importações"
   ]
  },
  {
   "cell_type": "code",
   "execution_count": 1,
   "metadata": {},
   "outputs": [
    {
     "name": "stdout",
     "output_type": "stream",
     "text": [
      "/bin/bash: pip: comando não encontrado\r\n"
     ]
    },
    {
     "name": "stderr",
     "output_type": "stream",
     "text": [
      "[nltk_data] Downloading package rslp to /home/karine/nltk_data...\n",
      "[nltk_data]   Package rslp is already up-to-date!\n",
      "[nltk_data] Downloading package stopwords to /home/karine/nltk_data...\n",
      "[nltk_data]   Package stopwords is already up-to-date!\n",
      "[nltk_data] Downloading package punkt to /home/karine/nltk_data...\n",
      "[nltk_data]   Package punkt is already up-to-date!\n"
     ]
    }
   ],
   "source": [
    "# Preparando ambiente (importando bibliotecas e downloads...)\n",
    "\n",
    "!pip install nltk\n",
    "import nltk\n",
    "nltk.download('rslp')\n",
    "nltk.download('stopwords')\n",
    "nltk.download('punkt')\n",
    "import re\n",
    "import pandas as pd \n",
    "import numpy as np\n",
    "import spacy\n",
    "nlp = spacy.load('pt')"
   ]
  },
  {
   "cell_type": "markdown",
   "metadata": {},
   "source": [
    "# Carregamento e tratamento dos léxicos e datasets necessários"
   ]
  },
  {
   "cell_type": "code",
   "execution_count": 2,
   "metadata": {},
   "outputs": [],
   "source": [
    "dicionario_lexico = {}\n",
    "sentilexpt = open('lexicos/SentiLex-lem-PT02.txt','r', encoding='utf8')\n",
    "ontolp = open('lexicos/lexico_v3.0.txt','r', encoding='utf8')"
   ]
  },
  {
   "cell_type": "code",
   "execution_count": 3,
   "metadata": {},
   "outputs": [],
   "source": [
    "for i in sentilexpt:\n",
    "    pos_ponto = i.find('.')\n",
    "    palavra = (i[:pos_ponto])\n",
    "    pol_pos = i.find('POL')\n",
    "    polaridade = (i[pol_pos+7:pol_pos+9]).replace(';','')\n",
    "    dicionario_lexico[palavra] = polaridade"
   ]
  },
  {
   "cell_type": "code",
   "execution_count": 4,
   "metadata": {},
   "outputs": [],
   "source": [
    "for i in ontolp:\n",
    "    split_dic = i.split(',')\n",
    "    palavra = split_dic[0]\n",
    "    if palavra not in dicionario_lexico:\n",
    "        polaridade = split_dic[2]\n",
    "        dicionario_lexico[palavra] = polaridade        "
   ]
  },
  {
   "cell_type": "code",
   "execution_count": 5,
   "metadata": {},
   "outputs": [],
   "source": [
    "dic_sentimentos = {}\n",
    "sentidic = open('Dicionarios/Plutchik/dic_sentimento_4_niveis_balanceado.txt','r', encoding='utf8')"
   ]
  },
  {
   "cell_type": "code",
   "execution_count": 6,
   "metadata": {},
   "outputs": [],
   "source": [
    "for i in sentidic:\n",
    "    split_dic = i.split('\\t')\n",
    "    dic_sentimentos[split_dic[0]] = split_dic[1][:-1]"
   ]
  },
  {
   "cell_type": "code",
   "execution_count": 7,
   "metadata": {},
   "outputs": [],
   "source": [
    "degree_words = open('lexicos/degree-words.txt','r', encoding='utf8')\n",
    "degree_words_set = {}"
   ]
  },
  {
   "cell_type": "code",
   "execution_count": 8,
   "metadata": {},
   "outputs": [],
   "source": [
    "for i in degree_words:\n",
    "    split_dic = i.split(';')\n",
    "    degree_words_set[split_dic[0]] = split_dic[1][:-1]"
   ]
  },
  {
   "cell_type": "code",
   "execution_count": 9,
   "metadata": {},
   "outputs": [],
   "source": [
    "sentilexpt.close()\n",
    "ontolp.close()\n",
    "degree_words.close()\n",
    "sentidic.close()"
   ]
  },
  {
   "cell_type": "code",
   "execution_count": 10,
   "metadata": {},
   "outputs": [],
   "source": [
    "liwc = pd.read_csv(\"lexicos/LIWC2007.txt\",sep=\"\\t\",encoding=\"ISO-8859-1\", names=['1', '2', '3', '4', '5', '6', '7', '8', '9', '10', '11', '12', '13', '14', '15', '16', '17', '18', '19', '20'])"
   ]
  },
  {
   "cell_type": "code",
   "execution_count": 11,
   "metadata": {},
   "outputs": [],
   "source": [
    "liwc_set = {}\n",
    "def cria_dic_liwc(x):\n",
    "    lista = []\n",
    "    if 126 in list(x):\n",
    "        liwc_set[x.name] = 'pos'\n",
    "    elif 127 in list(x):\n",
    "        liwc_set[x.name] = 'neg'"
   ]
  },
  {
   "cell_type": "code",
   "execution_count": 12,
   "metadata": {},
   "outputs": [
    {
     "data": {
      "text/plain": [
       "a          None\n",
       "aba        None\n",
       "abafa      None\n",
       "abafad*    None\n",
       "abafada    None\n",
       "           ... \n",
       "último     None\n",
       "último*    None\n",
       "út*        None\n",
       "úteis      None\n",
       "útil       None\n",
       "Length: 127161, dtype: object"
      ]
     },
     "execution_count": 12,
     "metadata": {},
     "output_type": "execute_result"
    }
   ],
   "source": [
    "liwc.apply(lambda x: cria_dic_liwc(x), axis=1)"
   ]
  },
  {
   "cell_type": "markdown",
   "metadata": {},
   "source": [
    "## Definições"
   ]
  },
  {
   "cell_type": "code",
   "execution_count": 13,
   "metadata": {},
   "outputs": [],
   "source": [
    "dicionario_def = dic_sentimentos\n",
    "#sentimentos = ['alegria','medo','nojo','raiva','surpresa', 'tristeza']\n",
    "#pontuacao_sent = {'alegria':0, 'medo':0, 'nojo':0, 'raiva':0, 'surpresa':0, 'tristeza':0}\n",
    "\n",
    "sentimentos = ['alegria','antecipação','confiança','medo','nojo', 'raiva', 'surpresa', 'tristeza']\n",
    "pontuacao_sent = {'alegria':0, 'antecipação':0, 'confiança':0, 'medo':0, 'nojo':0, 'raiva':0, 'surpresa':0, 'tristeza':0}"
   ]
  },
  {
   "cell_type": "markdown",
   "metadata": {},
   "source": [
    "# Sentimentos por transação"
   ]
  },
  {
   "cell_type": "code",
   "execution_count": 14,
   "metadata": {},
   "outputs": [],
   "source": [
    "def taxa_sent_por_frase(frase):\n",
    "    \n",
    "    global pontuacao_sent\n",
    "    \n",
    "    frase = nlp(frase)\n",
    "    degree_words_head = []\n",
    "    degree_words_aux = []\n",
    "    score_frase = pontuacao_sent.copy()\n",
    "    \n",
    "    for token in frase:\n",
    "        if(token.text in degree_words_set):\n",
    "            degree_words_head.append(token.head.text)\n",
    "            degree_words_aux.append(int(degree_words_set.get(token.text)))\n",
    "            \n",
    "    for token in frase:\n",
    "        if(token.text in dic_sentimentos):\n",
    "            dic = dicionario_def.get(token.text)\n",
    "            neg = 0\n",
    "            if token.head.text in degree_words_head:                \n",
    "                neg = int(degree_words_aux[degree_words_head.index(token.head.text)])\n",
    "            score_frase[dic] = int(score_frase.get(dic)) + 1 + neg\n",
    "\n",
    "    score_resultado = ('neutro', 0)\n",
    "    for sentimento, valor in score_frase.items():\n",
    "        s, v = score_resultado\n",
    "        if abs(valor) > v:\n",
    "            score_resultado = (sentimento, valor)\n",
    "        \n",
    "    s, v = score_resultado\n",
    "    return s"
   ]
  },
  {
   "cell_type": "code",
   "execution_count": 15,
   "metadata": {},
   "outputs": [],
   "source": [
    "def sentimento_transacao(transacao):\n",
    "    lista_sentimentos = []\n",
    "    agentes = []\n",
    "    sent_max = ''\n",
    "    sent_v = 0\n",
    "    for frase in transacao:\n",
    "        res = frase.split('\\t')\n",
    "        lista_sentimentos.append(taxa_sent_por_frase(res[1]))\n",
    "        agentes.append(res[0])\n",
    "    for item in sentimentos:\n",
    "        v_sent_atual = lista_sentimentos.count(item)\n",
    "        if v_sent_atual > sent_v:\n",
    "            sent_v = v_sent_atual\n",
    "            sent_max = item\n",
    "    v_agentes = pd.DataFrame(agentes)[0].value_counts().index.tolist()\n",
    "    if len(v_agentes) > 2:\n",
    "        print('ERRO contagem de agentes')\n",
    "    return sent_max, v_agentes"
   ]
  },
  {
   "cell_type": "code",
   "execution_count": 16,
   "metadata": {
    "scrolled": false
   },
   "outputs": [],
   "source": [
    "registros = open('logs/Logs_transacoes/Registros-Parcial.txt', 'r', encoding='utf8')\n",
    "df_sentimentos_classificados = pd.DataFrame(columns=['Partida', 'Rodada', 'Etapa', 'Emp', 'Agro'])\n",
    "for i in registros:\n",
    "    aux = str('logs/Logs_transacoes/Transacoes_Corrigidas_Concluidas/' + i[:-1] + \".txt\")\n",
    "    log_transacao = open(aux, 'r', encoding='utf8')\n",
    "    df = i[:-1].split('_')\n",
    "    sent, agentes = sentimento_transacao(log_transacao)\n",
    "    if \"Emp\" in agentes[0]:\n",
    "        a = agentes[0]\n",
    "        b = agentes[1]\n",
    "    else:\n",
    "        a = agentes[1]\n",
    "        b = agentes[0]\n",
    "    df_aux = pd.DataFrame([[df[0][-1:], df[1][-1:], df[2][-1:], a, b, sent]], columns=['Partida', 'Rodada', 'Etapa', 'Emp', 'Agro', 'Sentimento'])\n",
    "    df_sentimentos_classificados = df_sentimentos_classificados.append(df_aux, ignore_index=True)\n",
    "df_sentimentos_classificados.to_csv('sentimentos_classificados.txt')  "
   ]
  }
 ],
 "metadata": {
  "accelerator": "TPU",
  "colab": {
   "name": "NPL.ipynb",
   "provenance": [],
   "toc_visible": true,
   "version": "0.3.2"
  },
  "kernelspec": {
   "display_name": "Python 3",
   "language": "python",
   "name": "python3"
  },
  "language_info": {
   "codemirror_mode": {
    "name": "ipython",
    "version": 3
   },
   "file_extension": ".py",
   "mimetype": "text/x-python",
   "name": "python",
   "nbconvert_exporter": "python",
   "pygments_lexer": "ipython3",
   "version": "3.8.5"
  }
 },
 "nbformat": 4,
 "nbformat_minor": 1
}
