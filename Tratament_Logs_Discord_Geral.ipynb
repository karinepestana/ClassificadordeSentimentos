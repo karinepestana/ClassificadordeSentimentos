{
 "cells": [
  {
   "cell_type": "markdown",
   "metadata": {},
   "source": [
    "# Tratamento Dados Originais"
   ]
  },
  {
   "cell_type": "code",
   "execution_count": 15,
   "metadata": {},
   "outputs": [],
   "source": [
    "Logs_Original = open('logs/Logs_Processados_P5/LogGeral_PreProcessado.txt', 'r', encoding='utf8')\n",
    "Arquivo_Preprocessado = open('logs/Logs_Processados_P5/LogGeral_PreProcessado_Novo.txt', 'w+')"
   ]
  },
  {
   "cell_type": "code",
   "execution_count": 16,
   "metadata": {},
   "outputs": [],
   "source": [
    "partida = 5\n",
    "rodada = 3\n",
    "\n",
    "for i in Logs_Original:\n",
    "    if 'RODADA' in i:\n",
    "        a, n = str(i).split(' ')\n",
    "        rodada = int(n)\n",
    "    elif 'SIMULAÇÃO 5 ENCERRADA\\n' != i:\n",
    "        Arquivo_Preprocessado.writelines(str(i[:-1] + '\\t' + str(partida) + '\\t' + str(rodada) + '\\n'))    "
   ]
  },
  {
   "cell_type": "code",
   "execution_count": 17,
   "metadata": {},
   "outputs": [],
   "source": [
    "Logs_Original.close()\n",
    "Arquivo_Preprocessado.close()"
   ]
  }
 ],
 "metadata": {
  "kernelspec": {
   "display_name": "Python 3",
   "language": "python",
   "name": "python3"
  },
  "language_info": {
   "codemirror_mode": {
    "name": "ipython",
    "version": 3
   },
   "file_extension": ".py",
   "mimetype": "text/x-python",
   "name": "python",
   "nbconvert_exporter": "python",
   "pygments_lexer": "ipython3",
   "version": "3.8.5"
  }
 },
 "nbformat": 4,
 "nbformat_minor": 4
}
